{
 "cells": [
  {
   "cell_type": "code",
   "execution_count": 117,
   "metadata": {},
   "outputs": [],
   "source": [
    "import json\n",
    "from guess_language import guess_language\n",
    "import re\n",
    "import docx"
   ]
  },
  {
   "cell_type": "code",
   "execution_count": 118,
   "metadata": {},
   "outputs": [],
   "source": [
    "doc = docx.Document(\"stern-translation.docx\")"
   ]
  },
  {
   "cell_type": "code",
   "execution_count": 119,
   "metadata": {},
   "outputs": [],
   "source": [
    "all_paras = doc.paragraphs\n",
    "sections = []\n",
    "remarkNums = []"
   ]
  },
  {
   "cell_type": "code",
   "execution_count": 120,
   "metadata": {},
   "outputs": [],
   "source": [
    "for para in all_paras:\n",
    "    runs = para.runs\n",
    "    for run in runs:\n",
    "        if run.italic:\n",
    "            text = run.text\n",
    "            run.text = '<em>'+text+'</em>'\n",
    "        if run.underline:\n",
    "            print(run.text)\n",
    "            text = run.text\n",
    "            underline_type = str(run.underline)\n",
    "            if underline_type == 'True':\n",
    "                run.text = \"<span class='underline_single'>\"+text+\"</span>\"\n",
    "            if underline_type == 'DOUBLE (3)':\n",
    "                run.text = \"<span class='underline_double'>\"+text+\"</span>\"\n",
    "    if (re.search(\"\\S\", para.text)):\n",
    "        sections.append(para.text)"
   ]
  },
  {
   "cell_type": "code",
   "execution_count": 121,
   "metadata": {},
   "outputs": [],
   "source": [
    "bigList = []\n",
    "node = []\n",
    "for section in sections:\n",
    "    if (re.search(\"^[0-9]\\.[0-9]+\", section)):\n",
    "        if node:\n",
    "            bigList.append(node)\n",
    "            node = []\n",
    "    node.append(section)"
   ]
  },
  {
   "cell_type": "code",
   "execution_count": 122,
   "metadata": {},
   "outputs": [],
   "source": [
    "def remove_ger(List):\n",
    "    eng = ''\n",
    "    tlpNumber = ''\n",
    "    remark = {}\n",
    "    for item in List:\n",
    "        if (guess_language(item) == 'en' or guess_language(item) == 'el'):\n",
    "            eng += '<p>'+item+'</p>'\n",
    "        if (re.search(\"^[0-9]\\.[0-9]+\", item)):\n",
    "            tlpNumber = item\n",
    "    remark['eng'] = eng\n",
    "    remark['tlp-number'] = tlpNumber.strip()\n",
    "    return remark"
   ]
  },
  {
   "cell_type": "code",
   "execution_count": 123,
   "metadata": {},
   "outputs": [],
   "source": [
    "sternJson = []\n",
    "for el in bigList:\n",
    "    if (re.search(\"^[0-9]\\.[0-9]+\", el[0])):\n",
    "        sternJson.append(remove_ger(el))"
   ]
  },
  {
   "cell_type": "code",
   "execution_count": 124,
   "metadata": {},
   "outputs": [],
   "source": [
    "with open('stern-translation.json', 'w', encoding='utf8') as f:\n",
    "    json.dump(sternJson, f, indent=4, ensure_ascii=False)"
   ]
  }
 ],
 "metadata": {
  "kernelspec": {
   "display_name": "Python 3",
   "language": "python",
   "name": "python3"
  },
  "language_info": {
   "codemirror_mode": {
    "name": "ipython",
    "version": 3
   },
   "file_extension": ".py",
   "mimetype": "text/x-python",
   "name": "python",
   "nbconvert_exporter": "python",
   "pygments_lexer": "ipython3",
   "version": "3.7.3"
  }
 },
 "nbformat": 4,
 "nbformat_minor": 2
}
