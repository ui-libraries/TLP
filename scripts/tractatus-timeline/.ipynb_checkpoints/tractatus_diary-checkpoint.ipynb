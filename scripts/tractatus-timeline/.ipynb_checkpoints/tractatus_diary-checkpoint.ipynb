{
 "cells": [
  {
   "cell_type": "code",
   "execution_count": 1,
   "metadata": {},
   "outputs": [],
   "source": [
    "import json"
   ]
  },
  {
   "cell_type": "code",
   "execution_count": 2,
   "metadata": {},
   "outputs": [
    {
     "name": "stdout",
     "output_type": "stream",
     "text": [
      "Requirement already satisfied: docx2txt in /opt/anaconda3/lib/python3.8/site-packages (0.8)\r\n"
     ]
    }
   ],
   "source": [
    "#!pip install docx2txt"
   ]
  },
  {
   "cell_type": "code",
   "execution_count": 3,
   "metadata": {
    "scrolled": true
   },
   "outputs": [
    {
     "name": "stdout",
     "output_type": "stream",
     "text": [
      "Requirement already satisfied: python-docx in /opt/anaconda3/lib/python3.8/site-packages (0.8.11)\n",
      "Requirement already satisfied: lxml>=2.3.2 in /opt/anaconda3/lib/python3.8/site-packages (from python-docx) (4.6.1)\n",
      "Requirement already satisfied: langdetect in /opt/anaconda3/lib/python3.8/site-packages (1.0.9)\n",
      "Requirement already satisfied: six in /opt/anaconda3/lib/python3.8/site-packages (from langdetect) (1.15.0)\n",
      "Requirement already satisfied: textblob in /opt/anaconda3/lib/python3.8/site-packages (0.15.3)\n",
      "Requirement already satisfied: nltk>=3.1 in /opt/anaconda3/lib/python3.8/site-packages (from textblob) (3.5)\n",
      "Requirement already satisfied: joblib in /opt/anaconda3/lib/python3.8/site-packages (from nltk>=3.1->textblob) (0.17.0)\n",
      "Requirement already satisfied: tqdm in /opt/anaconda3/lib/python3.8/site-packages (from nltk>=3.1->textblob) (4.50.2)\n",
      "Requirement already satisfied: click in /opt/anaconda3/lib/python3.8/site-packages (from nltk>=3.1->textblob) (7.1.2)\n",
      "Requirement already satisfied: regex in /opt/anaconda3/lib/python3.8/site-packages (from nltk>=3.1->textblob) (2020.10.15)\n",
      "Requirement already satisfied: guess_language-spirit in /opt/anaconda3/lib/python3.8/site-packages (0.5.3)\n"
     ]
    }
   ],
   "source": [
    "#!pip install python-docx\n",
    "#!pip install langdetect\n",
    "#!pip install textblob\n",
    "#!pip install guess_language-spirit"
   ]
  },
  {
   "cell_type": "markdown",
   "metadata": {},
   "source": [
    "edits to original doc: philosophy.docx\n",
    "\n",
    "- in word doc, go to Edit > Find > Advanced Find & Replace\n",
    "- in \"Find what\" field, type: <[A-Za-z]\n",
    "- select \"Use Wildcards\" and (at bottom) Format > Font > Italic\n",
    "- in \"Replace\" field, type: ∞^&\n",
    "- this should insert a \"∞\" before every italicized word\n",
    "- & do the same for underlines\n",
    "\n",
    "new file = philosophy emph.docx"
   ]
  },
  {
   "cell_type": "code",
   "execution_count": 2,
   "metadata": {},
   "outputs": [],
   "source": [
    "import docx\n",
    "from guess_language import guessLanguage\n",
    "import re\n",
    "import json"
   ]
  },
  {
   "cell_type": "code",
   "execution_count": 3,
   "metadata": {},
   "outputs": [],
   "source": [
    "doc = docx.Document(\"diary.docx\")\n",
    "all_paras = doc.paragraphs\n",
    "para_list=[]\n",
    "for para in all_paras:\n",
    "    text=para.text\n",
    "    text=re.sub(\"∞\",\"<i>\",text)\n",
    "    text=re.sub(\"¡\",\"<u>\",text)\n",
    "    para_list.append(text)\n",
    "para_text='\\n'.join(para_list)"
   ]
  },
  {
   "cell_type": "code",
   "execution_count": 8,
   "metadata": {},
   "outputs": [
    {
     "name": "stdout",
     "output_type": "stream",
     "text": [
      "280\n"
     ]
    }
   ],
   "source": [
    "# split into sections\n",
    "split_mark=\"¬\"\n",
    "para_text=re.sub(\"Ms-10\",split_mark+\"Ms-10\",para_text) # insert split marker\n",
    "sections0=re.split(split_mark,para_text)\n",
    "\n",
    "sections=[]\n",
    "for sec in sections0:\n",
    "    if len(sec)>3: # incomplete sections?\n",
    "        sec=re.sub(\"·\",\"•\",sec)\n",
    "        #sec=re.sub(\"\\(|\\)\",\"†\",sec)\n",
    "        sections.append(sec)\n",
    "#sections.sort()\n",
    "print(len(sections))"
   ]
  },
  {
   "cell_type": "code",
   "execution_count": 11,
   "metadata": {},
   "outputs": [
    {
     "name": "stdout",
     "output_type": "stream",
     "text": [
      "Ms-101,1r[1]\n",
      "9.8.14.\n",
      "Vorgestern bei der Assentierung genommen worden & dem 2ten Festungsartillerie-Regiment in Krakau zugeteilt. Gestern vormittag von Wien ab. Komme heute vormittag in Krakau an. Guter Stimmung. Gab mein großes Schreibebuch Trenkler zur Aufbewahrung. Werde ich jetzt arbeiten können??? Sehr gespannt auf mein kommendes Leben! Die Militärbehörden in Wien waren von einer unglaublichen Freundlichkeit. Leute die von Tausenden täglich um Rat gefragt werden gaben freundliche & ausführliche Antworten. So etwas ermutigt ungeheuer. Es erinnerte mich an englische Verhältnisse. \n",
      "The day before yesterday was accepted after the medical examination for military service and assigned to the 2nd Fortress Artillery Regiment in Kraków. Left Vienna yesterday morning. Arriving in Kraków this morning. Good mood. Gave my large notebook to Trenkler for safekeeping. Will I be able to get work done now??? Very curious about my future life! The military authorities in Vienna were incredibly friendly. People who were asked thousands of questions every day gave friendly and exhaustive answers. Such things are tremendously encouraging. It reminded me of the English way of doing things.\n",
      "\n",
      "\n",
      " \n"
     ]
    }
   ],
   "source": [
    "print(sections[1])"
   ]
  },
  {
   "cell_type": "code",
   "execution_count": 15,
   "metadata": {},
   "outputs": [],
   "source": [
    "# fields and their corresponding regular expressions- \n",
    "fields=[(\"manuscript\",\"Ms-.*\"), #Ms-101,12r[2] et 13r[1] (1914--0902) (NB)\n",
    "         (\"date\",\"\\n\\s*([0-9]+[.][0-9]+[.][0-9]+[.]*)\")] #2.9.14."
   ]
  },
  {
   "cell_type": "code",
   "execution_count": 25,
   "metadata": {},
   "outputs": [
    {
     "name": "stderr",
     "output_type": "stream",
     "text": [
      "<ipython-input-25-b493cf412977>:41: DeprecationWarning: call to deprecated function guessLanguage()\n",
      "  if (guessLanguage(subsec) == 'de'):\n",
      "<ipython-input-25-b493cf412977>:44: DeprecationWarning: call to deprecated function guessLanguage()\n",
      "  elif (guessLanguage(subsec) == 'en'):\n"
     ]
    },
    {
     "name": "stdout",
     "output_type": "stream",
     "text": [
      "279\n",
      "14\n",
      "8\n"
     ]
    }
   ],
   "source": [
    "# grab into json\n",
    "nodes=[]\n",
    "empties=[]\n",
    "multiples=[]\n",
    "sos=[]\n",
    "sections.sort()\n",
    "for section in sections:\n",
    "    text=[]\n",
    "    \n",
    "    # metadata\n",
    "    s={}\n",
    "    e=[]\n",
    "    m=[]\n",
    "    for field in fields:\n",
    "        line=re.findall(field[1],section)\n",
    "        if len(line)==1:\n",
    "            s[field[0]]=line[0]\n",
    "        elif len(line)==0:\n",
    "            s[field[0]]=\"\"\n",
    "            e.append(s)\n",
    "        elif len(line)>1:\n",
    "            #s[field[0]]=line\n",
    "            #OR\n",
    "            for i in range(len(line)):\n",
    "                s[field[0]+str(i+1)]=line[i]\n",
    "            m.append(s)\n",
    "    if len(e)>0:\n",
    "        new=(section,e)\n",
    "        empties.append(new)\n",
    "    if m!=[]:\n",
    "        new=(section,m[-1])\n",
    "        multiples.append(new)\n",
    "        \n",
    "    # translations\n",
    "    subsections=re.split(\"\\n\",section)\n",
    "    ger=[]\n",
    "    ger_ind=[]\n",
    "    eng=[]\n",
    "    eng_ind=[]\n",
    "    for subsec in subsections:\n",
    "        if (guessLanguage(subsec) == 'de'):\n",
    "            ger.append(subsec)\n",
    "            ger_ind.append(subsections.index(subsec))\n",
    "        elif (guessLanguage(subsec) == 'en'):\n",
    "            eng.append(subsec)\n",
    "            eng_ind.append(subsections.index(subsec))\n",
    "    if eng_ind!=[]:\n",
    "        s[\"eng\"]='\\n'.join(eng)\n",
    "    else:\n",
    "        s[\"eng\"]=\"\"\n",
    "    if ger_ind!=[]:\n",
    "        s[\"ger\"]='\\n'.join(ger)\n",
    "    else:\n",
    "        s[\"ger\"]=\"\"\n",
    "    if s[\"manuscript\"]!='':\n",
    "        nodes.append(s)\n",
    "        \n",
    "print(len(nodes))\n",
    "print(len(empties))\n",
    "print(len(multiples))"
   ]
  },
  {
   "cell_type": "code",
   "execution_count": null,
   "metadata": {},
   "outputs": [],
   "source": []
  },
  {
   "cell_type": "code",
   "execution_count": 26,
   "metadata": {},
   "outputs": [],
   "source": [
    "with open('stern_hz_diary.json', 'w', encoding='utf8') as f:\n",
    "    json.dump(nodes, f, indent=4, ensure_ascii=False)"
   ]
  },
  {
   "cell_type": "code",
   "execution_count": 17,
   "metadata": {},
   "outputs": [
    {
     "name": "stdout",
     "output_type": "stream",
     "text": [
      "Ms-101,24v[1]\n",
      "Fast nichts gearbeitet.\n",
      "Did almost no work.\n",
      " \n",
      " [{'manuscript': 'Ms-101,24v[1]', 'date': '', 'eng': '', 'ger': 'Fast nichts gearbeitet.\\nDid almost no work.\\n'}] \n",
      "\n",
      "•••\n",
      "\n",
      "Ms-101,40v[1] \n",
      "Höre soeben daß wir heute nacht das für gestern geplante Unternehmen ausführen werden. Davon daß wir nach Krakau kommen ist noch gar keine Rede. Also heute nacht! ——! Wir sollen mit Schnellfeuerkanonen und Maschinengewehren schießen wie ich höre, mehr um Lärm zu machen als zu treffen. Auch entnehme ich daß die Sache gefährlich werden wird. Wenn ich mit dem Scheinwerfer leuchten soll so bin ich gewiß verloren. Aber das macht nichts denn nur eines ist nötig! In einer Stunde fahren wir ab. Gott ist mit mir!\n",
      "Just now hear that tonight we're going to carry out the business that was planned for yesterday. There is still no talk of us going to Krakow. So tonight! ——! We shall shoot rapid firing cannons and machine guns, more to make noise than to hit anything, I am told. I gather too that it will be dangerous. If I have to man the searchlight, then I’m certainly lost. But that doesn't matter, for only one thing is necessary! We leave in an hour. God is with me!\n",
      " \n",
      " [{'manuscript': 'Ms-101,40v[1]\\xa0', 'date': '', 'eng': \"Just now hear that tonight we're going to carry out the business that was planned for yesterday. There is still no talk of us going to Krakow. So tonight! ——! We shall shoot rapid firing cannons and machine guns, more to make noise than to hit anything, I am told. I gather too that it will be dangerous. If I have to man the searchlight, then I’m certainly lost. But that doesn't matter, for only one thing is necessary! We leave in an hour. God is with me!\\n\", 'ger': 'Höre soeben daß wir heute nacht das für gestern geplante Unternehmen ausführen werden. Davon daß wir nach Krakau kommen ist noch gar keine Rede. Also heute nacht! ——! Wir sollen mit Schnellfeuerkanonen und Maschinengewehren schießen wie ich höre, mehr um Lärm zu machen als zu treffen. Auch entnehme ich daß die Sache gefährlich werden wird. Wenn ich mit dem Scheinwerfer leuchten soll so bin ich gewiß verloren. Aber das macht nichts denn nur eines ist nötig! In einer Stunde fahren wir ab. Gott ist mit mir!'}] \n",
      "\n",
      "•••\n",
      "\n",
      "Ms-101,41v[2] \n",
      "Ich bin Geist & darum bin ich frei. Wir stehen bei Lopiza & die Granaten fliegen über uns weg & pfeifen. Zogen uns nach Nadbrzezie zurück & fahren jetzt wieder auf neuen Befehl an dieselbe Stelle. Den ganzen Nachmittag heftigstes Geschützfeuer. Ich war die ganze Zeit bester Stimmung und von dem Donner wie berauscht. Abends fuhren wir nach Sandomierz wo wir die Nacht über stehen bleiben sollen. ——. Viel gearbeitet ——.\n",
      "I am spirit, and that is why I am free. We are near Lopiza and the grenades fly over us and whistle. We moved back to Nadbrzezie and now go back to the same place again on new orders. The most violent artillery fire all afternoon. The whole time I was in the best mood and as if intoxicated by the bombardment. In the evening we went to Sandomierz where we are supposed to stop for the night. ——. Worked a lot ——.\n",
      " \n",
      " [{'manuscript': 'Ms-101,41v[2]\\xa0', 'date': '', 'eng': 'I am spirit, and that is why I am free. We are near Lopiza and the grenades fly over us and whistle. We moved back to Nadbrzezie and now go back to the same place again on new orders. The most violent artillery fire all afternoon. The whole time I was in the best mood and as if intoxicated by the bombardment. In the evening we went to Sandomierz where we are supposed to stop for the night. ——. Worked a lot ——.\\n', 'ger': 'Ich bin Geist & darum bin ich frei. Wir stehen bei Lopiza & die Granaten fliegen über uns weg & pfeifen. Zogen uns nach Nadbrzezie zurück & fahren jetzt wieder auf neuen Befehl an dieselbe Stelle. Den ganzen Nachmittag heftigstes Geschützfeuer. Ich war die ganze Zeit bester Stimmung und von dem Donner wie berauscht. Abends fuhren wir nach Sandomierz wo wir die Nacht über stehen bleiben sollen. ——. Viel gearbeitet ——.'}] \n",
      "\n",
      "•••\n",
      "\n",
      "Ms-101,5r[3]\n",
      "aRb3 . aRc . bSc = aR [bSc] Def\n",
      "ζTη\n",
      " \n",
      " [{'manuscript': 'Ms-101,5r[3]', 'date': '', 'eng': '', 'ger': ''}] \n",
      "\n",
      "•••\n",
      "\n",
      "Ms-101,7r[3] et 8r[1]\n",
      "φ(x)       (x).φx (∃x).φx\n",
      "φ(p)       φ((ζ) ψζ)\n",
      " \n",
      " [{'manuscript': 'Ms-101,7r[3] et 8r[1]', 'date': '', 'eng': '', 'ger': ''}] \n",
      "\n",
      "•••\n",
      "\n",
      "Ms-101,8r[2]\n",
      "Ob es jetzt für immer mit meinem Arbeiten aus ist?!! Das weiß der Teufel. Ob mir nie mehr etwas einfallen wird? Ich bin mit allen den Begriffen meiner Arbeit ganz & gar \"unfamiliär\". Ich sehe gar nichts!!!\n",
      "Will I never be able to do my work again?!! The devil alone knows. Will I ever have new ideas? All the notions distinctive of my work seem utterly “unfamiliar” to me. I don't see anything at all!!!\n",
      " \n",
      " [{'manuscript': 'Ms-101,8r[2]', 'date': '', 'eng': \"Will I never be able to do my work again?!! The devil alone knows. Will I ever have new ideas? All the notions distinctive of my work seem utterly “unfamiliar” to me. I don't see anything at all!!!\\n\", 'ger': 'Ob es jetzt für immer mit meinem Arbeiten aus ist?!! Das weiß der Teufel. Ob mir nie mehr etwas einfallen wird? Ich bin mit allen den Begriffen meiner Arbeit ganz & gar \"unfamiliär\". Ich sehe gar nichts!!!'}] \n",
      "\n",
      "•••\n",
      "\n",
      "Ms-102,16v[3] et 17v[1] et 18v[1]\n",
      "Es wird Winter. — Gestern / erhielt ich von Ficker eine freundliche Karte. Es ist dann die Rede daß die Schiffsmannschaft von hier wegkommt da die Schiffe über Winter nicht zu verwenden sind. \n",
      "Was wird dann mit mir werden?? Wir hören starken Geschützdonner von den Werken. Nicht viel gearbeitet. Abends in der Stadt. Wieder keine Klarheit des Sehens obwohl ich ganz offenbar vor der Lösung der tiefsten Fragen stehe daß ich mir fast die Nase daran stoße!!! Mein Geist ist eben jetzt dafür einfach blind! Ich fühle daß ich an dem Tor daran / stehe kann es aber nicht klar genug sehen um es öffnen zu können. Dies ist ein ungemein merkwürdiger Zustand den ich noch nie so klar empfunden habe als jetzt. ——!——!\n",
      "Winter is coming. – Yesterday I received a friendly card from Ficker. There is talk that the ship’s crew will get away from here because the ships are not to be used in winter. \n",
      "What will become of me then? We hear heavy artillery fire from the front. Didn’t work much. In the evening in the city. Again no clarity of vision although I am so obviously facing the solution to the deepest questions that I almost bump my nose against it!!! My spirit is simply blind to it right now! I feel that I am standing at the gate but can’t see it clearly enough to be able to open it. This is an extremely strange state that I have never felt so clearly as at present. ——!——!\n",
      " \n",
      " [{'manuscript': 'Ms-102,16v[3] et 17v[1] et 18v[1]', 'date': '', 'eng': 'Winter is coming. – Yesterday I received a friendly card from Ficker. There is talk that the ship’s crew will get away from here because the ships are not to be used in winter. \\nWhat will become of me then? We hear heavy artillery fire from the front. Didn’t work much. In the evening in the city. Again no clarity of vision although I am so obviously facing the solution to the deepest questions that I almost bump my nose against it!!! My spirit is simply blind to it right now! I feel that I am standing at the gate but can’t see it clearly enough to be able to open it. This is an extremely strange state that I have never felt so clearly as at present. ——!——!\\n', 'ger': 'Es wird Winter. — Gestern / erhielt ich von Ficker eine freundliche Karte. Es ist dann die Rede daß die Schiffsmannschaft von hier wegkommt da die Schiffe über Winter nicht zu verwenden sind. \\nWas wird dann mit mir werden?? Wir hören starken Geschützdonner von den Werken. Nicht viel gearbeitet. Abends in der Stadt. Wieder keine Klarheit des Sehens obwohl ich ganz offenbar vor der Lösung der tiefsten Fragen stehe daß ich mir fast die Nase daran stoße!!! Mein Geist ist eben jetzt dafür einfach blind! Ich fühle daß ich an dem Tor daran / stehe kann es aber nicht klar genug sehen um es öffnen zu können. Dies ist ein ungemein merkwürdiger Zustand den ich noch nie so klar empfunden habe als jetzt. ——!——!'}] \n",
      "\n",
      "•••\n",
      "\n",
      "Ms-102,IIr[1] \n",
      "Nach meinem Tode an meine Mutter zu schicken.|\n",
      "\n",
      "Für Hon. B. Russell\n",
      "Trinity College\n",
      "Cambridge\n",
      "England\n",
      " \n",
      " [{'manuscript': 'Ms-102,IIr[1]\\xa0', 'date': '', 'eng': '', 'ger': 'Nach meinem Tode an meine Mutter zu schicken.|\\n\\nFür Hon. B. Russell\\nTrinity College\\nCambridge\\nEngland\\n'}] \n",
      "\n",
      "•••\n",
      "\n",
      "Ms-103,1v[1] \n",
      "… und müsse mir das Leben nehmen. Ich litt Höllenqualen! Und doch war mir das Bild des Lebens so verlockend daß ich wieder leben wollte. Erst dann werde ich mich vergiften wenn ich mich vergiften will.\n",
      "... and have to take my life. I suffered the torments of hell! And yet the picture of life was so tempting that I wanted to live again. Only if I want to poison myself, only then will I poison myself.\n",
      " \n",
      " [{'manuscript': 'Ms-103,1v[1]\\xa0', 'date': '', 'eng': '... and have to take my life. I suffered the torments of hell! And yet the picture of life was so tempting that I wanted to live again. Only if I want to poison myself, only then will I poison myself.\\n', 'ger': '… und müsse mir das Leben nehmen. Ich litt Höllenqualen! Und doch war mir das Bild des Lebens so verlockend daß ich wieder leben wollte. Erst dann werde ich mich vergiften wenn ich mich vergiften will.'}] \n",
      "\n",
      "•••\n",
      "\n",
      "Ms-103,52v[1]\n",
      "[12.9.16]\n",
      "Bin deprimiert. Allein allein! Gott sei Dank: Loos lebt.\n",
      "Am depressed. Alone alone! Thank God: Loos is alive.\n",
      " \n",
      " [{'manuscript': 'Ms-103,52v[1]', 'date': '', 'eng': 'Am depressed. Alone alone! Thank God: Loos is alive.\\n', 'ger': 'Bin deprimiert. Allein allein! Gott sei Dank: Loos lebt.'}] \n",
      "\n",
      "•••\n",
      "\n",
      "Ms-103,55v[1]\n",
      "Unter Schmerzen: [Comment on writing of opposite page 56r.]\n",
      "In pain: [Comment on writing of opposite page 56r.]\n",
      " \n",
      " [{'manuscript': 'Ms-103,55v[1]', 'date': '', 'eng': 'In pain: [Comment on writing of opposite page 56r.]\\n', 'ger': 'Unter Schmerzen: [Comment on writing of opposite page 56r.]'}] \n",
      "\n",
      "•••\n",
      "\n",
      "Ms-103,55v[2] \n",
      "Manches Gute im Großen im einzelnen aber schlecht.\n",
      "Some good things in general but bad. \n",
      " [{'manuscript': 'Ms-103,55v[2]\\xa0', 'date': '', 'eng': 'Some good things in general but bad.', 'ger': 'Manches Gute im Großen im einzelnen aber schlecht.'}] \n",
      "\n",
      "•••\n",
      "\n",
      "Ms-103,IIIr[1]\n",
      "Ad. 4/5  Alle in die Schwarmlinien entsendeten Aufklärer haben sich immer beim Bataillonskommandanten in dessen Abschnitt sie sich befinden persönlich zu melden.\n",
      "All spotters//observers// dispatched to the flight lines must always report in person to the battalion commander for their sector.\n",
      " \n",
      " [{'manuscript': 'Ms-103,IIIr[1]', 'date': '', 'eng': 'All spotters//observers// dispatched to the flight lines must always report in person to the battalion commander for their sector.\\n', 'ger': 'Ad. 4/5  Alle in die Schwarmlinien entsendeten Aufklärer haben sich immer beim Bataillonskommandanten in dessen Abschnitt sie sich befinden persönlich zu melden.'}] \n",
      "\n",
      "•••\n",
      "\n",
      "― iii ―\n",
      "\n",
      "Nach meinem Tod zu senden\n",
      "an Frau\n",
      "Poldy Wittgenstein\n",
      "XVII. Neuwaldeggerstr. 38\n",
      "\n",
      "Wien\n",
      "\n",
      "101 iii\n",
      "\n",
      "Zu senden an\n",
      "Hon. B. Russell\n",
      "Trinity College\n",
      "Cambridge\n",
      "England\n",
      "\n",
      "\n",
      "\n",
      " \n",
      " [{'manuscript': '', 'date': '', 'eng': '', 'ger': 'Nach meinem Tod zu senden\\nan Frau\\nPoldy Wittgenstein\\nXVII. Neuwaldeggerstr. 38\\n\\nWien\\n\\n101 iii\\n\\nZu senden an\\nHon. B. Russell\\nTrinity College\\nCambridge\\nEngland\\n\\n\\n\\n'}, {'manuscript': '', 'date': '', 'eng': '', 'ger': 'Nach meinem Tod zu senden\\nan Frau\\nPoldy Wittgenstein\\nXVII. Neuwaldeggerstr. 38\\n\\nWien\\n\\n101 iii\\n\\nZu senden an\\nHon. B. Russell\\nTrinity College\\nCambridge\\nEngland\\n\\n\\n\\n'}] \n",
      "\n",
      "•••\n",
      "\n"
     ]
    }
   ],
   "source": [
    "# View empties\n",
    "for e in empties:\n",
    "    print(e[0],'\\n',e[1],'\\n\\n•••\\n')"
   ]
  },
  {
   "cell_type": "code",
   "execution_count": 19,
   "metadata": {},
   "outputs": [
    {
     "name": "stdout",
     "output_type": "stream",
     "text": [
      "Ms-102,16v[2]\n",
      "15.11.14.\n",
      "Lese jetzt in Emersons Essays. Vielleicht werden sie einen guten Einfluß auf mich haben. Ziemlich gearbeitet. ——.\n",
      "Reading Emerson's essays now. Maybe they will have a good influence on me. Worked fairly well.  ——.\n",
      "16.11.14.\n",
      " \n",
      " {'manuscript': 'Ms-102,16v[2]', 'date1': '15.11.14.', 'date2': '16.11.14.', 'eng': \"Reading Emerson's essays now. Maybe they will have a good influence on me. Worked fairly well.  ——.\\n16.11.14.\\n\", 'ger': 'Lese jetzt in Emersons Essays. Vielleicht werden sie einen guten Einfluß auf mich haben. Ziemlich gearbeitet. ——.'} \n",
      "\n",
      "\n",
      "\n",
      "Ms-102,63v[2]\n",
      "28.2.15.\n",
      "1.3.15\n",
      "Nicht gearbeitet. Keine Nachricht von David! Unentschiedener und wechselnder Stimmung.\n",
      "Didn’t work. No news from David! Indecisive and unsettled mood.\n",
      " \n",
      " {'manuscript': 'Ms-102,63v[2]', 'date1': '28.2.15.', 'date2': '1.3.15', 'eng': 'Didn’t work. No news from David! Indecisive and unsettled mood.\\n', 'ger': 'Nicht gearbeitet. Keine Nachricht von David! Unentschiedener und wechselnder Stimmung.'} \n",
      "\n",
      "\n",
      "\n",
      "Ms-102,63v[3]\n",
      "2.3.15.\n",
      "3.3.15.\n",
      "Nicht gearbeitet. Gestern abend einen momentanen Lichtblick. Keine Nachricht von David! — Abends gemütlich bei Scholz. Sonst im allgemeinen trüber Stimmung.\n",
      "Didn’t work. A momentary glimmer of light yesterday evening. No news from David! — Pleasant evening at Scholz’s. Otherwise, a generally gloomy mood.\n",
      " \n",
      " {'manuscript': 'Ms-102,63v[3]', 'date1': '2.3.15.', 'date2': '3.3.15.', 'eng': 'Didn’t work. A momentary glimmer of light yesterday evening. No news from David! — Pleasant evening at Scholz’s. Otherwise, a generally gloomy mood.\\n', 'ger': 'Nicht gearbeitet. Gestern abend einen momentanen Lichtblick. Keine Nachricht von David! — Abends gemütlich bei Scholz. Sonst im allgemeinen trüber Stimmung.'} \n",
      "\n",
      "\n",
      "\n",
      "Ms-102,69v[6] \n",
      "4.4.15.\n",
      "5.4.15.\n",
      "Wechselnder Stimmung.\n",
      "Unsettled mood.\n",
      " \n",
      " {'manuscript': 'Ms-102,69v[6]\\xa0', 'date1': '4.4.15.', 'date2': '5.4.15.', 'eng': '', 'ger': 'Wechselnder Stimmung.\\nUnsettled mood.\\n'} \n",
      "\n",
      "\n",
      "\n",
      "Ms-102,72v[1] \n",
      "5.5.15.\n",
      "7.5.15.\n",
      "Noch immer nicht ernannt! Immer wieder wegen meiner unklaren Stellung Unanehmlichkeiten. Wenn das noch lange so geht werde ich von hier wegzukommen trachten.\n",
      "Still not appointed! Troubles because of my unclear position, again and again. If it goes on like this for much longer, I’ll try to get away from here.\n",
      " \n",
      " {'manuscript': 'Ms-102,72v[1]\\xa0', 'date1': '5.5.15.', 'date2': '7.5.15.', 'eng': 'Still not appointed! Troubles because of my unclear position, again and again. If it goes on like this for much longer, I’ll try to get away from here.\\n', 'ger': 'Noch immer nicht ernannt! Immer wieder wegen meiner unklaren Stellung Unanehmlichkeiten. Wenn das noch lange so geht werde ich von hier wegzukommen trachten.'} \n",
      "\n",
      "\n",
      "\n",
      "Ms-102,72v[2] \n",
      "8.5.15.\n",
      "10.5.15.\n",
      "Viel Aufregung! War nahe am Weinen!!!! Fühle mich wie gebrochen und krank! Von Gemeinheit umgeben.\n",
      "Much agitation! Was close to crying!!!! Feel myself broken and sick! Surrounded by viciousness.\n",
      " \n",
      " {'manuscript': 'Ms-102,72v[2]\\xa0', 'date1': '8.5.15.', 'date2': '10.5.15.', 'eng': 'Much agitation! Was close to crying!!!! Feel myself broken and sick! Surrounded by viciousness.\\n', 'ger': 'Viel Aufregung! War nahe am Weinen!!!! Fühle mich wie gebrochen und krank! Von Gemeinheit umgeben.'} \n",
      "\n",
      "\n",
      "\n",
      "Ms-102,73v[2] \n",
      "25.5.15.\n",
      "8.6.15.\n",
      "Erneuerte Schwierigkeit wegen meiner Beförderung. Werde wahrscheinlich von hier wegkommen. Vielfach sehr niedergedrückt. Durch die Gemeinheit meiner Umgebung die mich aufs Schändlichste ausnützt. ——.\n",
      "Renewed difficulty over my promotion. Will probably get away from here. Often very weighed down. Because of the viciousness of those around me who exploit me most disgracefully. ——.\n",
      " \n",
      " {'manuscript': 'Ms-102,73v[2]\\xa0', 'date1': '25.5.15.', 'date2': '8.6.15.', 'eng': 'Renewed difficulty over my promotion. Will probably get away from here. Often very weighed down. Because of the viciousness of those around me who exploit me most disgracefully. ——.\\n', 'ger': 'Erneuerte Schwierigkeit wegen meiner Beförderung. Werde wahrscheinlich von hier wegkommen. Vielfach sehr niedergedrückt. Durch die Gemeinheit meiner Umgebung die mich aufs Schändlichste ausnützt. ——.'} \n",
      "\n",
      "\n",
      "\n",
      "Ms-103,3v[1] \n",
      "6.4.16.\n",
      "Das Leben ist eine\n",
      "7.4.16.\n",
      "Tortur von der man nur zeitweise heruntergespannt wird um für weitere Qualen empfänglich zu bleiben. Ein furchtbares Sortiment von Qualen. Ein erschöpfender Marsch, eine durchhustete Nacht, eine Gesellschaft von Besoffenen, eine Gesellschaft von gemeinen und dummen Leuten. Tue Gutes und freue dich über deine Tugend. Bin krank und habe ein schlechtes Leben. Gott helfe mir. Ich bin ein armer unglücklicher Mensch. Gott erlöse mich und schenke mir den Frieden! Amen.\n",
      "Life is a torture from which one is only briefly relieved so as to remain receptive to further torments. A terrible variety of torments. An exhausting march, a night of coughing, a company of drunkards, a company of vile and stupid people. Do good and rejoice in your virtue. Am sick and have a miserable life. God help me. I am a poor unhappy man. God redeem me and give me peace! Amen.\n",
      " \n",
      " {'manuscript': 'Ms-103,3v[1]\\xa0', 'date1': '6.4.16.', 'date2': '7.4.16.', 'eng': 'Life is a torture from which one is only briefly relieved so as to remain receptive to further torments. A terrible variety of torments. An exhausting march, a night of coughing, a company of drunkards, a company of vile and stupid people. Do good and rejoice in your virtue. Am sick and have a miserable life. God help me. I am a poor unhappy man. God redeem me and give me peace! Amen.\\n', 'ger': 'Tortur von der man nur zeitweise heruntergespannt wird um für weitere Qualen empfänglich zu bleiben. Ein furchtbares Sortiment von Qualen. Ein erschöpfender Marsch, eine durchhustete Nacht, eine Gesellschaft von Besoffenen, eine Gesellschaft von gemeinen und dummen Leuten. Tue Gutes und freue dich über deine Tugend. Bin krank und habe ein schlechtes Leben. Gott helfe mir. Ich bin ein armer unglücklicher Mensch. Gott erlöse mich und schenke mir den Frieden! Amen.'} \n",
      "\n",
      "\n",
      "\n"
     ]
    }
   ],
   "source": [
    "# View multiples\n",
    "for m in multiples:\n",
    "    print(m[0],'\\n',m[1],'\\n\\n\\n')"
   ]
  },
  {
   "cell_type": "code",
   "execution_count": null,
   "metadata": {},
   "outputs": [],
   "source": []
  }
 ],
 "metadata": {
  "kernelspec": {
   "display_name": "Python 3",
   "language": "python",
   "name": "python3"
  },
  "language_info": {
   "codemirror_mode": {
    "name": "ipython",
    "version": 3
   },
   "file_extension": ".py",
   "mimetype": "text/x-python",
   "name": "python",
   "nbconvert_exporter": "python",
   "pygments_lexer": "ipython3",
   "version": "3.7.3"
  }
 },
 "nbformat": 4,
 "nbformat_minor": 4
}
