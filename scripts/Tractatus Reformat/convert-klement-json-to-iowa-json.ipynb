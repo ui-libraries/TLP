{
 "cells": [
  {
   "cell_type": "code",
   "execution_count": 1,
   "metadata": {},
   "outputs": [],
   "source": [
    "import json"
   ]
  },
  {
   "cell_type": "code",
   "execution_count": 2,
   "metadata": {},
   "outputs": [],
   "source": [
    "#https://bitbucket.org/frabjous/tractatus/src/master/tlp_html.json\n",
    "with open('tlp_html.json', encoding='utf-8') as f:\n",
    "  latexJson = json.load(f)\n",
    "with open('sectionsJson.json', encoding='utf-8') as f:\n",
    "  sectionsJson = json.load(f)"
   ]
  },
  {
   "cell_type": "code",
   "execution_count": 3,
   "metadata": {},
   "outputs": [],
   "source": [
    "odd1 = {\n",
    "    \"label\": \"6.0121\",\n",
    "    \"precision\": 4,\n",
    "    \"fontSize\": \"18px\",\n",
    "    \"y_axis\": 7,\n",
    "    \"x_axis\": 111,\n",
    "    \"ger\": \"\",\n",
    "    \"ogd\": \"\",\n",
    "    \"str\": \"\"\n",
    "}\n",
    "\n",
    "odd2 = {\n",
    "    \"label\": \"6.2311\",\n",
    "    \"precision\": 4,\n",
    "    \"fontSize\": \"18px\",\n",
    "    \"y_axis\": 29,\n",
    "    \"x_axis\": 115,\n",
    "    \"ger\": \"\",\n",
    "    \"ogd\": \"\",\n",
    "    \"str\": \"\"\n",
    "}"
   ]
  },
  {
   "cell_type": "code",
   "execution_count": 4,
   "metadata": {},
   "outputs": [
    {
     "name": "stdout",
     "output_type": "stream",
     "text": [
      "'6.0121'\n",
      "'6.2311'\n"
     ]
    }
   ],
   "source": [
    "sections = []\n",
    "for section in sectionsJson['sections']:\n",
    "    try:\n",
    "        newSection = {}\n",
    "        newSection[\"label\"] = section[\"label\"]\n",
    "        newSection[\"precision\"] = section[\"precision\"]\n",
    "        newSection[\"fontSize\"] = section[\"fontSize\"]\n",
    "        newSection[\"y_axis\"] = section[\"y_axis\"]\n",
    "        newSection[\"x_axis\"] = section[\"x_axis\"]\n",
    "        newSection[\"ger\"] = \" \".join(latexJson[section[\"label\"]][\"German\"])\n",
    "        newSection[\"pmc\"] = \" \".join(latexJson[section[\"label\"]][\"PearsMcGuinness\"])\n",
    "        newSection[\"ogd\"] = \" \".join(latexJson[section[\"label\"]][\"Ogden\"])\n",
    "        newSection[\"str\"] = \"\"\n",
    "        sections.append(newSection)\n",
    "    except Exception as e:\n",
    "        print(e)\n",
    "sections.append(odd1)\n",
    "sections.append(odd2)\n",
    "        \n",
    "tlp = {\"sections\": sections}\n",
    "        \n",
    "with open('sectionsJson-html.json', 'w', encoding='utf8') as f:\n",
    "    json.dump(tlp, f, indent=4, ensure_ascii=False)"
   ]
  },
  {
   "cell_type": "markdown",
   "metadata": {},
   "source": [
    "{\n",
    "    \"label\": \"6.0121\",\n",
    "    \"precision\": 4,\n",
    "    \"fontSize\": \"18px\",\n",
    "    \"y_axis\": 7,\n",
    "    \"x_axis\": 111,\n",
    "    \"ger\": \"\",\n",
    "    \"ogd\": \"\",\n",
    "    \"str\": \"\"\n",
    "}\n",
    "\n",
    "{\n",
    "    \"label\": \"6.2311\",\n",
    "    \"precision\": 4,\n",
    "    \"fontSize\": \"18px\",\n",
    "    \"y_axis\": 29,\n",
    "    \"x_axis\": 115,\n",
    "    \"ger\": \"\",\n",
    "    \"ogd\": \"\",\n",
    "    \"str\": \"\"\n",
    "}"
   ]
  },
  {
   "cell_type": "code",
   "execution_count": null,
   "metadata": {},
   "outputs": [],
   "source": []
  }
 ],
 "metadata": {
  "kernelspec": {
   "display_name": "Python 3",
   "language": "python",
   "name": "python3"
  },
  "language_info": {
   "codemirror_mode": {
    "name": "ipython",
    "version": 3
   },
   "file_extension": ".py",
   "mimetype": "text/x-python",
   "name": "python",
   "nbconvert_exporter": "python",
   "pygments_lexer": "ipython3",
   "version": "3.7.3"
  }
 },
 "nbformat": 4,
 "nbformat_minor": 2
}
