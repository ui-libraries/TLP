{
 "cells": [
  {
   "cell_type": "code",
   "execution_count": 1,
   "metadata": {
    "collapsed": true
   },
   "outputs": [
    {
     "name": "stdout",
     "output_type": "stream",
     "text": [
      "Collecting docx2txt\n",
      "  Downloading https://files.pythonhosted.org/packages/7d/7d/60ee3f2b16d9bfdfa72e8599470a2c1a5b759cb113c6fe1006be28359327/docx2txt-0.8.tar.gz\n",
      "Building wheels for collected packages: docx2txt\n",
      "  Building wheel for docx2txt (setup.py) ... \u001b[?25ldone\n",
      "\u001b[?25h  Created wheel for docx2txt: filename=docx2txt-0.8-cp37-none-any.whl size=3964 sha256=5673d4efa44c54e177faab15ad2a4b668ed7e5ec9e1c63b79d5645363cd29a8e\n",
      "  Stored in directory: /Users/mtbutler/Library/Caches/pip/wheels/b2/1f/26/a051209bbb77fc6bcfae2bb7e01fa0ff941b82292ab084d596\n",
      "Successfully built docx2txt\n",
      "Installing collected packages: docx2txt\n",
      "Successfully installed docx2txt-0.8\n",
      "\u001b[33mWARNING: You are using pip version 19.3.1; however, version 21.0.1 is available.\n",
      "You should consider upgrading via the 'pip install --upgrade pip' command.\u001b[0m\n"
     ]
    }
   ],
   "source": [
    "!pip install docx2txt"
   ]
  },
  {
   "cell_type": "code",
   "execution_count": 137,
   "metadata": {},
   "outputs": [
    {
     "name": "stdout",
     "output_type": "stream",
     "text": [
      "Requirement already satisfied: python-docx in /Users/mtbutler/anaconda3/lib/python3.7/site-packages (0.8.10)\n",
      "Requirement already satisfied: lxml>=2.3.2 in /Users/mtbutler/anaconda3/lib/python3.7/site-packages (from python-docx) (4.3.2)\n",
      "\u001b[33mWARNING: You are using pip version 19.3.1; however, version 21.1.1 is available.\n",
      "You should consider upgrading via the 'pip install --upgrade pip' command.\u001b[0m\n",
      "Requirement already satisfied: langdetect in /Users/mtbutler/anaconda3/lib/python3.7/site-packages (1.0.8)\n",
      "Requirement already satisfied: six in /Users/mtbutler/anaconda3/lib/python3.7/site-packages (from langdetect) (1.12.0)\n",
      "\u001b[33mWARNING: You are using pip version 19.3.1; however, version 21.1.1 is available.\n",
      "You should consider upgrading via the 'pip install --upgrade pip' command.\u001b[0m\n",
      "Requirement already satisfied: textblob in /Users/mtbutler/anaconda3/lib/python3.7/site-packages (0.15.3)\n",
      "Requirement already satisfied: nltk>=3.1 in /Users/mtbutler/anaconda3/lib/python3.7/site-packages (from textblob) (3.4)\n",
      "Requirement already satisfied: six in /Users/mtbutler/anaconda3/lib/python3.7/site-packages (from nltk>=3.1->textblob) (1.12.0)\n",
      "Requirement already satisfied: singledispatch in /Users/mtbutler/anaconda3/lib/python3.7/site-packages (from nltk>=3.1->textblob) (3.4.0.3)\n",
      "\u001b[33mWARNING: You are using pip version 19.3.1; however, version 21.1.1 is available.\n",
      "You should consider upgrading via the 'pip install --upgrade pip' command.\u001b[0m\n",
      "Collecting guess_language-spirit\n",
      "\u001b[?25l  Downloading https://files.pythonhosted.org/packages/8b/4f/9ed0280b24e9e6875c3870a97659d0106a14e36db0d7d65c5277066fc7d0/guess_language-spirit-0.5.3.tar.bz2 (81kB)\n",
      "\u001b[K     |████████████████████████████████| 81kB 5.9MB/s  eta 0:00:01\n",
      "\u001b[?25hBuilding wheels for collected packages: guess-language-spirit\n",
      "  Building wheel for guess-language-spirit (setup.py) ... \u001b[?25ldone\n",
      "\u001b[?25h  Created wheel for guess-language-spirit: filename=guess_language_spirit-0.5.3-cp37-none-any.whl size=121216 sha256=afb6402497d8f6391aa3ec60554ed8b3f26039fa5771702b3c7f0fccfed2edf0\n",
      "  Stored in directory: /Users/mtbutler/Library/Caches/pip/wheels/e3/34/c3/1583565badc832e3962ea9153ee8930189d497ea8b1d310466\n",
      "Successfully built guess-language-spirit\n",
      "Installing collected packages: guess-language-spirit\n",
      "Successfully installed guess-language-spirit-0.5.3\n",
      "\u001b[33mWARNING: You are using pip version 19.3.1; however, version 21.1.1 is available.\n",
      "You should consider upgrading via the 'pip install --upgrade pip' command.\u001b[0m\n"
     ]
    }
   ],
   "source": [
    "!pip install python-docx\n",
    "!pip install langdetect\n",
    "!pip install textblob\n",
    "!pip install guess_language-spirit"
   ]
  },
  {
   "cell_type": "code",
   "execution_count": 1,
   "metadata": {},
   "outputs": [],
   "source": [
    "import docx\n",
    "from guess_language import guessLanguage\n",
    "import re\n",
    "import json"
   ]
  },
  {
   "cell_type": "code",
   "execution_count": 2,
   "metadata": {},
   "outputs": [],
   "source": [
    "dot = \"·\""
   ]
  },
  {
   "cell_type": "code",
   "execution_count": 3,
   "metadata": {},
   "outputs": [],
   "source": [
    "doc = docx.Document(\"philosophy.docx\")"
   ]
  },
  {
   "cell_type": "code",
   "execution_count": 4,
   "metadata": {},
   "outputs": [],
   "source": [
    "all_paras = doc.paragraphs"
   ]
  },
  {
   "cell_type": "code",
   "execution_count": 19,
   "metadata": {},
   "outputs": [
    {
     "name": "stderr",
     "output_type": "stream",
     "text": [
      "/Users/mtbutler/anaconda3/lib/python3.7/site-packages/ipykernel_launcher.py:25: DeprecationWarning: call to deprecated function guessLanguage()\n",
      "/Users/mtbutler/anaconda3/lib/python3.7/site-packages/ipykernel_launcher.py:27: DeprecationWarning: call to deprecated function guessLanguage()\n"
     ]
    }
   ],
   "source": [
    "matches = ['\\t']\n",
    "nodes = []\n",
    "i = 0\n",
    "for para in all_paras:\n",
    "    #if any(x in repr(para.text) for x in matches) == True:\n",
    "    if (repr(para.text).find('\\t') == -1):\n",
    "        #print('section ' + str(i))\n",
    "        if ('Ms-' in para.text):\n",
    "            section = {}\n",
    "            i += 1\n",
    "            #print(str(i), '------------------')\n",
    "            section[\"manuscript\"] = para.text\n",
    "        if (dot in repr(para.text) and \"Cf\" not in repr(para.text)):\n",
    "            loc = para.text.split('\\t')\n",
    "            for i in range(len(loc)):\n",
    "                if (dot in loc[i] and loc.index(loc[i]) == 0):\n",
    "                    section[\"pt-number\"] = loc[i]\n",
    "                if (\"[\" in loc[i]):\n",
    "                    section[\"pt-page\"] = loc[i]\n",
    "                if (dot in loc[i] and loc.index(loc[i]) > 0):\n",
    "                    section[\"tlp-number\"] = loc[i]\n",
    "                if (\".\" in loc[i]):\n",
    "                    section[\"euro-date\"] = loc[i]\n",
    "            \n",
    "        if (guessLanguage(para.text) == 'de'):\n",
    "            section[\"ger\"] = para.text\n",
    "        if (guessLanguage(para.text) == 'en'):\n",
    "            section[\"eng\"] = para.text\n",
    "        if (re.search(\"\\d+\\.\\d+\\.\\d+\\.\", para.text)):\n",
    "            section[\"date\"] = para.text\n",
    "        nodes.append(section)\n",
    "\n",
    "with open('stern2.json', 'w') as f:\n",
    "    json.dump(nodes, f, indent=4)\n",
    "        "
   ]
  },
  {
   "cell_type": "code",
   "execution_count": null,
   "metadata": {},
   "outputs": [],
   "source": []
  }
 ],
 "metadata": {
  "kernelspec": {
   "display_name": "Python 3",
   "language": "python",
   "name": "python3"
  },
  "language_info": {
   "codemirror_mode": {
    "name": "ipython",
    "version": 3
   },
   "file_extension": ".py",
   "mimetype": "text/x-python",
   "name": "python",
   "nbconvert_exporter": "python",
   "pygments_lexer": "ipython3",
   "version": "3.7.3"
  }
 },
 "nbformat": 4,
 "nbformat_minor": 2
}
